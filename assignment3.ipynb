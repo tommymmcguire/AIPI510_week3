{
    "metadata": {
        "kernelspec": {
            "name": "python3",
            "display_name": "Python 3 (ipykernel)",
            "language": "python"
        }
    },
    "nbformat": 4,
    "nbformat_minor": 4,
    "cells": [
        {
            "attachments": {},
            "cell_type": "markdown",
            "metadata": {},
            "source": [
                "\u003ca target=\"blank\" href='https://ai.meng.duke.edu'\u003e = \u003cimg align=\"center\" width=\"500px\" style=\"padding-top:10px;\" src=https://ai.meng.duke.edu/sites/ai.meng.duke.edu/files/images/Duke-MEng-AI-Logo-RGB-Horizontal-Navy.svg\u003e"
            ]
        },
        {
            "attachments": {},
            "cell_type": "markdown",
            "metadata": {},
            "source": [
                "***NOTE:*** You are welcome to download this Jupyter Notebook and work on it using your own software. Just please follow these steps:\n",
                "\n",
                "\n",
                "1. Download the notebook ***and any other csv/data files/required files*** from the 'files' panel on the left.\n",
                "\u003cp align=\"center\"\u003e\n",
                "\u003cimg width=250 src='download_image.png'\u003e\n",
                "\u003c/p\u003e\n",
                "\n",
                "2. Open the notebook using the software of your choice.\n",
                "3. When finished, re-upload the notebook using the *exact same* name (replacing the current one).\n",
                "\u003cp align=\"center\"\u003e\n",
                "\u003cimg width=250 src='upload_image.png'\u003e\n",
                "\u003c/p\u003e"
            ]
        },
        {
            "attachments": {},
            "cell_type": "markdown",
            "metadata": {},
            "source": [
                "# Assignment 3\n",
                "We are going to do some analysis on flight delays using a data source from the US Bureau of Transportation Statistics (https://www.transtats.bts.gov/DL_SelectFields.asp?Table_ID=236), which provides historical data for every commercial flight in the U.S. since 1987.  In this exercise we will work  small subset of this data for all flights in the U.S. during the month of August 2019.  \n",
                "\n",
                "Let's suppose we would like to build a model to be able to predict expected delay on a flight at any given point in the future.  We might consider using factors such as the following in our predictive model:  \n",
                "- Origin airport (certain airports may have more delays on average) \n",
                "- Airline (certain airlines might have higher delays) \n",
                "- Time of day, day of week  \n",
                "- Season of year and/or month\n",
                "- Forecasted weather conditions  \n",
                "- Etc.\n",
                "\n",
                "Think for a moment about whether you would expect each of the above factors to influence expected delay, and if so, why?  \n",
                "\n",
                "In this exercise we will explore a couple of those factors to see if they influence the amount of delay we would expect, given the historical data we have available.\n",
                "\n",
                "## Load The Data\n",
                "Before you go any further please load the datasets by running one of the two following code cells.\n",
                "\n",
                "\n",
                "1. If you have download this notebook and required files to your laptop, please uncomment and run the first cell to ensure that the data sets have been downloaded.\n",
                "2. If you are completeing this notebook in Edstem, please skip the first cell block (that downloads the data sets) and run the second cell block to import the required libraries.\n",
                ""
            ]
        },
        {
            "cell_type": "code",
            "execution_count": 4,
            "metadata": {},
            "outputs": [],
            "source": [
                "## Uncomment and run this cell only if you have downloaded the notebook \n",
                "## and are running it from your laptop and not in Edstem\n",
                "### This downloads the csv data files into the same directory where you have saved this notebook\n",
                "\n",
                "# import urllib.request\n",
                "# from pathlib import Path\n",
                "# import os\n",
                "# path = Path()\n",
                "\n",
                "## Dictionary of file names and download links\n",
                "# files = {'Aug2019_flights.csv':'https://edstem.org/us/courses/41635/resources?download=30280',\n",
                "#         'Airport_codes.csv': 'https://edstem.org/us/courses/41635/resources?download=30279',\n",
                "#         'Airline_codes.csv': 'https://edstem.org/us/courses/41635/resources?download=30278'}\n",
                "\n",
                "## Download each file\n",
                "# for key,value in files.items():\n",
                "#     filename = path/key\n",
                "#     url = value\n",
                "##    # If the file does not already exist in the directory, download it\n",
                "#     if not os.path.exists(filename):\n",
                "#         urllib.request.urlretrieve(url,filename)"
            ]
        },
        {
            "cell_type": "code",
            "execution_count": 1,
            "metadata": {},
            "outputs": [],
            "source": [
                "# Run this cell to import required libraries\n",
                "\n",
                "import pandas as pd\n",
                "import numpy as np\n",
                "import matplotlib.pyplot as plt\n",
                "\n",
                "import warnings\n",
                "warnings.filterwarnings(\"ignore\")"
            ]
        },
        {
            "attachments": {},
            "cell_type": "markdown",
            "metadata": {},
            "source": [
                "## **Question 1 [10 pts]**\n",
                "Before we dive into any analysis, let's load our data, see how much we have, and take a look at the structure.  We have our main data file 'Aug2019_flights.csv' and we also have a separate mapper file 'Airport_codes.csv' which we will later use to map numerical airport codes to the airport names.  \n",
                "\n",
                "Complete the below function `load_data()` which loads the two files, converts them both to dataframes, and then returns the two dataframes."
            ]
        },
        {
            "cell_type": "code",
            "execution_count": 5,
            "metadata": {},
            "outputs": [],
            "source": [
                "### S0LUTION FUNCTION\n",
                "# ADD YOUR SOLUTION TO THE DESIGNATED AREA\n",
                "# DO NOT ALTER THE SURROUNDING CODE\n",
                "\n",
                "def load_data(data_filename, mapper_filename):\n",
                "    ### BEGIN SOLUTION ###\n",
                "\n",
                "    ### END SOLUTION ###"
            ]
        },
        {
            "cell_type": "code",
            "execution_count": 6,
            "metadata": {},
            "outputs": [],
            "source": [
                "### TEST FUNCTION: test_question1\n",
                "# DO NOT REMOVE THE LINE ABOVE\n",
                "# RUN THIS CELL TO TEST YOUR SOLUTION\n",
                "\n",
                "# Read in the data and display the head to see what data we have\n",
                "flight_data, airport_map = load_data(\"Aug2019_flights.csv\",\"Airport_codes.csv\")\n",
                "print('During the month of August 2019 there were {} flights'.format(len(flight_data)))\n",
                "display(flight_data.head())\n",
                "print('Mapper file:')\n",
                "display(airport_map.head())"
            ]
        },
        {
            "attachments": {},
            "cell_type": "markdown",
            "metadata": {},
            "source": [
                "We can see above that our data contains several pieces of information about each flight:  \n",
                "    - DAY_OF_WEEK: Day of week (1-7)  \n",
                "    - FL_DATE: Flight date  \n",
                "    - OP_UNIQUE_CARRIER: Airline (represented using an airline code)  \n",
                "    - OP_CARRIER_FL_NUM: Flight number  \n",
                "    - ORIGIN_AIRPORT_ID: ID number of origin airport \n",
                "    - DEST_AIRPORT_ID: ID number of destination airport  \n",
                "    - CRS_DEP_TIME: departure time  \n",
                "    - DEP_DELAY_NEW: minutes of departure delay  \n",
                "    - CANCELLED: 0 if not cancelled, 1 if cancelled  \n",
                "    - WEATHER DELAY: minutes of weather delay\n",
                " "
            ]
        },
        {
            "attachments": {},
            "cell_type": "markdown",
            "metadata": {},
            "source": [
                "## **Question 2 [30 pts]**\n",
                "Before we do any analysis on our data, the first thing we want to do is clean it up by adding the origin airport name using our mapping file.\n",
                "\n",
                "Let's write a function `add_origin_airports(flight_data, mapper_file)` which takes as input a dataframe of flight data ('flight_data') and a dataframe of the same form as `airport_map` which maps airport codes to airport names ('mapper_file').  The function should do the following to the input dataframe:  \n",
                "- Add a new column 'ORIGIN_AIRPORT' which contains the origin airport from the mapper_file, exactly as stated in the 'Description' column of the mapper file (e.g. \"Atlanta, GA: Hartsfield-Jackson Atlanta International\"). You should do this by merging the data from the mapper_file into the input dataframe using a 'left' merge. Hint: you may have to rename the column after the merge.\n",
                "- Add a new column 'ORIGIN_CITY' which lists the city location of the origin airport.  This can be obtained by splitting the city name out of the 'ORIGIN_AIRPORT' column.  For example, for the airport 'Atlanta, GA: Hartsfield-Jackson Atlanta International' the ORIGIN_CITY entry should be 'Atlanta, GA'.\n",
                "\n",
                "The function should return a dataframe which contains all the columns of 'flight_data' in their original format and adds two new columns: 'ORIGIN_AIRPORT' and 'ORIGIN_CITY' as described above.  Be sure that your function does not perform any operations (e.g. any sorting or filtering) other than what is noted above.  "
            ]
        },
        {
            "cell_type": "code",
            "execution_count": 7,
            "metadata": {},
            "outputs": [],
            "source": [
                "### S0LUTION FUNCTION\n",
                "# ADD YOUR SOLUTION TO THE DESIGNATED AREA\n",
                "# DO NOT ALTER THE SURROUNDING CODE\n",
                "\n",
                "def add_origin_airports(flight_data, mapper_file):\n",
                "    ### BEGIN SOLUTION\n",
                "\n",
                "    ### END SOLUTION"
            ]
        },
        {
            "cell_type": "code",
            "execution_count": 8,
            "metadata": {},
            "outputs": [],
            "source": [
                "### TEST FUNCTION: test_question2\n",
                "# DO NOT REMOVE THE LINE ABOVE\n",
                "# RUN THIS CELL TO TEST YOUR SOLUTION\n",
                "\n",
                "new_df = add_origin_airports(flight_data,airport_map)\n",
                "display(new_df.head())\n",
                ""
            ]
        },
        {
            "attachments": {},
            "cell_type": "markdown",
            "metadata": {},
            "source": [
                "## **Question 3 [30 pts]**\n",
                "Let's start by looking at how much the average delay varies based on the origin airport of a flight.  It might be logical to expect different airports to have different patterns of delayed flights, based on things such as:  \n",
                "- Weather patterns at the airport location (airports in areas of extreme weather such as thunderstorms or snowstorms may have higher average delays). \n",
                "- Operational efficiency of the airport (some airports may run more smoothly than others). \n",
                "- Flight traffic at the airport (busy airports might have higher delays due to more complicated logistics when events such as weather cause problems)\n",
                "\n",
                "Complete the below function `airport_mean_delay(flight_data,airport_map,airport_name)` which takes the following inputs:  \n",
                "- The raw DataFrame of flight data ('flight_data')\n",
                "- A DataFrame which maps airport codes to airport names ('airport_map')  \n",
                "- Name of an airport 'airport_name' (string). \n",
                "\n",
                "The function should calculate the mean delay for all flights originating from the airport specified as the input 'airport_name' during the month for which we have data, excluding any flights with a missing/NaN value for `DEP_DELAY_NEW`.  It should return the mean delay as a *float* value."
            ]
        },
        {
            "cell_type": "code",
            "execution_count": 9,
            "metadata": {},
            "outputs": [],
            "source": [
                "### S0LUTION FUNCTION\n",
                "# ADD YOUR SOLUTION TO THE DESIGNATED AREA\n",
                "# DO NOT ALTER THE SURROUNDING CODE\n",
                "\n",
                "def airport_mean_delay(flight_data,airport_map,airport_name):\n",
                "    ### BEGIN SOLUTION\n",
                "\n",
                "    ### END SOLUTION"
            ]
        },
        {
            "cell_type": "code",
            "execution_count": 10,
            "metadata": {},
            "outputs": [],
            "source": [
                "### TEST FUNCTION: test_question3\n",
                "# DO NOT REMOVE THE LINE ABOVE\n",
                "# RUN THIS CELL TO TEST YOUR SOLUTION\n",
                "\n",
                "# 'add_origin_airports()' test cell\n",
                "d1 = airport_mean_delay(flight_data,airport_map,'Atlanta, GA: Hartsfield-Jackson Atlanta International')\n",
                "print('Average delay for flights from Spokane International in Washington is {:.2f} minutes'.format(d1))\n",
                "\n",
                "d2 = airport_mean_delay(flight_data,airport_map,\"West Palm Beach/Palm Beach, FL: Palm Beach International\")\n",
                "print('Average delay for flights from Palm Beach International in Florida is {:.2f} minutes'.format(d2))\n",
                ""
            ]
        },
        {
            "attachments": {},
            "cell_type": "markdown",
            "metadata": {},
            "source": [
                "Take a look at the results for the couple airports in the test cases above, and try a couple yourself by calling your function using airport names (in the form \"city,state: airport\").  \n",
                "\n",
                "Based on the results, does it appear (at least for the limited set of data we have) that expected delay varies significantly by airport?\n",
                "\n",
                "When we think about the data we have used in this exercise, how might it limit our analysis (hint: think about the timeframe of the data we are using and what impact that might have)?\n",
                "\n",
                "(You don't have to write your answers to these questions, just think about them and answer for yourself)"
            ]
        },
        {
            "attachments": {},
            "cell_type": "markdown",
            "metadata": {},
            "source": [
                "## **Question 4 [30 pts]**\n",
                "Now let's analyze whether the day of the week on which a flight takes place has an impact on expected amount of delay.\n",
                "\n",
                "Complete the function `delays_per_day(flight_data,airport_map)` which takes as input the raw 'flight_data' dataframe and the 'airport_map' dataframe mapping airport IDs to airport names.  The function should return a **list** of the **average departure delays** ('DEP_DELAY_NEW') for flights on each day of the week, in order from day 0 to day 7.  In calculating the mean you should exclude any flights with a missing/NaN departure delay."
            ]
        },
        {
            "cell_type": "code",
            "execution_count": 8,
            "metadata": {},
            "outputs": [],
            "source": [
                "### S0LUTION FUNCTION\n",
                "# ADD YOUR SOLUTION TO THE DESIGNATED AREA\n",
                "# DO NOT ALTER THE SURROUNDING CODE\n",
                "\n",
                "def delays_per_day(flight_data,airport_map):\n",
                "    ### BEGIN SOLUTION\n",
                "\n",
                "    ### END SOLUTION"
            ]
        },
        {
            "cell_type": "code",
            "execution_count": 9,
            "metadata": {},
            "outputs": [],
            "source": [
                "### TEST FUNCTION: test_question4\n",
                "# DO NOT REMOVE THE LINE ABOVE\n",
                "# RUN THIS CELL TO TEST YOUR SOLUTION\n",
                "\n",
                "# Test cell for 'delays_per_day()'\n",
                "delays = delays_per_day(flight_data,airport_map)\n",
                "days = ['Monday','Tuesday','Wednesday','Thursday','Friday','Saturday','Sunday']\n",
                "print(delays)\n",
                "for i,_ in enumerate(days):\n",
                "    print('Average delay for {}: {:.2f}'.format(days[i],delays[i]))"
            ]
        },
        {
            "attachments": {},
            "cell_type": "markdown",
            "metadata": {},
            "source": [
                "After you have created your function `delays_per_day()` and confirmed that it passes the tests, run the following cell which will create a bar chart showing the average delay per day of the week.  Visualizations such as this help us easily extract insights into our data, and also inspire questions to ask based on what the data tells us.  As we consider whether day of week might be a factor in influencing expected delays of flights, a visualization might give us some clues about whether the factor might be useful later in our model.\n",
                "\n",
                "For example, based on the below visualization we could draw a prelimary conclusion about whether \"day of week\" might be important in modeling delays.  We could substantiate our hypothesis by conducting a statistical test (such as an ANOVA) to see whether differences in average delays between days of the week are statistically significant or not.\n",
                "\n",
                "Bear in mind that in this case we are working with data from just a single month, so if we were actually going to build such a model we would likely want to collect much more data to understand how things change across months (and even years)."
            ]
        },
        {
            "cell_type": "code",
            "execution_count": 10,
            "metadata": {
                "scrolled": true
            },
            "outputs": [],
            "source": [
                "delays = delays_per_day(flight_data,airport_map)\n",
                "plt.bar(x=range(1,8),height=delays)\n",
                "plt.xlabel('day of week')\n",
                "plt.ylabel('mean delay in minutes')\n",
                "plt.show()"
            ]
        }
    ]
}
