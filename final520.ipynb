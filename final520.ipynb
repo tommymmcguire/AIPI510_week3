{
  "cells": [
    {
      "cell_type": "markdown",
      "metadata": {
        "deletable": false,
        "editable": false,
        "nbgrader": {
          "cell_type": "markdown",
          "checksum": "08182317210b098895e92f945e7e8fad",
          "grade": false,
          "grade_id": "cell-b00b9108e6a7dc96",
          "locked": true,
          "schema_version": 3,
          "solution": false,
          "task": false
        },
        "id": "uvdZys3BbQA5"
      },
      "source": [
        "<a href='https://ai.meng.duke.edu'> = <img align=\"left\" style=\"padding-top:10px;\" src=https://storage.googleapis.com/aipi_datasets/Duke-AIPI-Logo.png>"
      ]
    },
    {
      "cell_type": "markdown",
      "metadata": {
        "deletable": false,
        "editable": false,
        "nbgrader": {
          "cell_type": "markdown",
          "checksum": "440871755571226850f86aca259ed521",
          "grade": false,
          "grade_id": "cell-78d7928edb59ae09",
          "locked": true,
          "schema_version": 3,
          "solution": false,
          "task": false
        },
        "id": "48SEMAlhbQA8"
      },
      "source": [
        "# AIPI 520 Final Exam\n",
        "Important notes:  \n",
        "1) You may NOT import any packages which are not already imported for you (no exceptions to this).  \n",
        "2) You may NOT change any code except in the areas designated for you to write your code\n",
        "3) You may NOT use AI assistants on any of the written response problems.\n",
        "\n",
        "Good luck!"
      ]
    },
    {
      "cell_type": "code",
      "execution_count": 1,
      "metadata": {
        "deletable": false,
        "editable": false,
        "nbgrader": {
          "cell_type": "code",
          "checksum": "3593d0bfe5839acae34f8ef30961c5b4",
          "grade": false,
          "grade_id": "cell-70d90a94e42e01fe",
          "locked": true,
          "schema_version": 3,
          "solution": false,
          "task": false
        },
        "id": "4lzM5yWNbQA8"
      },
      "outputs": [],
      "source": [
        "# Run this before any other code cell\n",
        "# This downloads the csv data files into the same directory where you have saved this notebook\n",
        "\n",
        "import urllib.request\n",
        "from pathlib import Path\n",
        "import os\n",
        "path = Path()\n",
        "\n",
        "# Dictionary of file names and download links\n",
        "files = {'communities.csv':'https://storage.googleapis.com/aipi_datasets/communities.csv'}\n",
        "\n",
        "# Download each file\n",
        "for key,value in files.items():\n",
        "    filename = path/key\n",
        "    url = value\n",
        "    # If the file does not already exist in the directory, download it\n",
        "    if not os.path.exists(filename):\n",
        "        urllib.request.urlretrieve(url,filename)"
      ]
    },
    {
      "cell_type": "code",
      "execution_count": 2,
      "metadata": {
        "deletable": false,
        "editable": false,
        "nbgrader": {
          "cell_type": "code",
          "checksum": "74609c96d42f21975ba351f14fe7ecb3",
          "grade": false,
          "grade_id": "cell-1e57f5f4cf6ad094",
          "locked": true,
          "schema_version": 3,
          "solution": false,
          "task": false
        },
        "id": "3Iuaa40mbQA9"
      },
      "outputs": [],
      "source": [
        "import numpy as np\n",
        "import pandas as pd\n",
        "\n",
        "import torch\n",
        "from torchvision import datasets, transforms\n",
        "from torch.utils.data import DataLoader, TensorDataset\n",
        "import torch.nn as nn\n",
        "import torch.nn.functional as F\n",
        "import torch.optim as optim\n",
        "\n",
        "from sklearn.model_selection import train_test_split,cross_val_score\n",
        "from sklearn.linear_model import LinearRegression, Lasso\n",
        "from sklearn.tree import DecisionTreeRegressor, plot_tree\n",
        "from sklearn.ensemble import RandomForestRegressor,GradientBoostingRegressor\n",
        "from sklearn.metrics import confusion_matrix\n",
        "from sklearn.model_selection import KFold\n",
        "\n",
        "import matplotlib.pyplot as plt\n",
        "import seaborn as sns\n",
        "\n",
        "import warnings\n",
        "warnings.filterwarnings(\"ignore\")"
      ]
    },
    {
      "cell_type": "markdown",
      "metadata": {
        "id": "kZTvyLB2bQA-"
      },
      "source": [
        "## Question 1 [17 pts]\n",
        "Please answer the following questions with brief answers of no more than 2-3 sentences:"
      ]
    },
    {
      "cell_type": "markdown",
      "metadata": {
        "id": "RlSzp24ubQA-"
      },
      "source": [
        "### Q1.1 (4 points)\n",
        "Explain in no more than 2-3 sentences the intuition behind how a tree model chooses the splitting attribute and value for each node.  Your explanation must contain words, not equations."
      ]
    },
    {
      "cell_type": "markdown",
      "metadata": {
        "id": "8QysQVffbQA-"
      },
      "source": [
        "YOUR ANSWER HERE:\n",
        "\n",
        "The goal of decision trees is to build the most efficient tree, which is a tree that successfully splits the data using the minimum number of splits. To do so, the objective is to maximize the information gain, or minimize the impurity (classification) or MSE (regression), at each split in the tree. The value for each node is calculated by either entropy (0 being perfectly pure and 1 being perfectly impure) or Gini impurity (0 being perfectly pure and 0.5 being perfectly impure)."
      ]
    },
    {
      "cell_type": "markdown",
      "metadata": {
        "id": "dsvEq6R2bQA-"
      },
      "source": [
        "### Q1.2 (2 points)\n",
        "We have trained a tree model for a regression problem.  Explain how our tree model now generates predictions on new data using the tree?"
      ]
    },
    {
      "cell_type": "markdown",
      "metadata": {
        "id": "4uJRZZW8bQA_"
      },
      "source": [
        "YOUR ANSWER HERE:\n",
        "\n",
        "Predictions are made using a decision tree by traversing the tree, reaching a decision at each node. The input data will follow a path based on the features of the data and the decisions at each node. This will continue until the input reaches the final \"leaf\" node which represents the predicted value or class that the input data falls into."
      ]
    },
    {
      "cell_type": "markdown",
      "metadata": {
        "id": "xMsdjJkPbQA_"
      },
      "source": [
        "### Q1.3 (3 points)\n",
        "Why do we often use a random forest rather than a single decision tree?  What is a disadvantage of a random forest relative to using a single tree?"
      ]
    },
    {
      "cell_type": "markdown",
      "metadata": {
        "id": "HMMolqFObQA_"
      },
      "source": [
        "YOUR ANSWER HERE:\n",
        "\n",
        "Decision trees tend to overfit data and can be sensitive to noise. Random forest gives us the ability to grow several trees and take the majority vote by using a bagging technique to ensure that each tree is independent and trained on a different subset of data. This can help improve accuracy, reduce variance, and handle complex relationships better; however, it can also make it more difficult to interpret and require more computational resources and time."
      ]
    },
    {
      "cell_type": "markdown",
      "metadata": {
        "id": "38NPxdF4bQA_"
      },
      "source": [
        "### Q1.4 (2 points)\n",
        "If we have created a boosted ensemble model using AdaBoost, how do we use it to generate predictions for new data?"
      ]
    },
    {
      "cell_type": "markdown",
      "metadata": {
        "id": "lMSj6OmkbQA_"
      },
      "source": [
        "YOUR ANSWER HERE:\n",
        "\n",
        "To generate predictions for new data using a boosted ensemble model using AdaBoost, we first pass the data through each weak learner, which focus on the misclassifications of previous learners. Next, we calculate individual predictions for each of the weak learners and aggregate the predictions based on the weights assigned for each learner. Finally, we make predictions determined by the aggregated results, which can either be classficiation or regression."
      ]
    },
    {
      "cell_type": "markdown",
      "metadata": {
        "id": "4OTyFM1ZbQBA"
      },
      "source": [
        "### Q1.5 (3 points)\n",
        "Describe a scenario where using a boosting model with a decision stump as the base estimator would very likely produce poor results, relative to a boosting model using other types of algorithms for the base estimator.  Why would the boosting model using a decision stump perform poorly in this scenario?"
      ]
    },
    {
      "cell_type": "markdown",
      "metadata": {
        "id": "n45yHAsebQBA"
      },
      "source": [
        "YOUR ANSWER HERE:\n",
        "\n",
        "One scenario where using a boosting model with a decision stump as the base estimator would likely produce poor results would be when the target variable is heavily influenced by the interaction of several features, for example a model that predicts the likelihood of developing certain phenotypes. This is because decision stumps can only make decisions based on a single feature at a time and with boosting they iteratively focus on correcting the mistakes of previous stumps. Therefore, they would be incapable of capturing the complex, multi-dimensional relationships present in the data."
      ]
    },
    {
      "cell_type": "markdown",
      "metadata": {
        "id": "6p2swNOobQBA"
      },
      "source": [
        "### Q1.6 (3 points)\n",
        "What are 3 key differences between boosting ensemble models and bagging ensemble models?"
      ]
    },
    {
      "cell_type": "markdown",
      "metadata": {
        "id": "lY4iBc6abQBA"
      },
      "source": [
        "YOUR ANSWER HERE:\n",
        "\n",
        "First, in boosting ensemble models weak learners are trained on the full dataset and learn from the mistakes of previous learners, while bagging weak learners are trained on random subsets with replacement and trained close to independently. Second, in boosting the final prediction is the weighted average or additive combination of all learners, while bagging final predictions is the simple average or majority vote. Finally, boosting efficiency is low as it is trained in series and more likely to overfit, while bagging training efficiency is high as it is trained in parallel and less likely to overfit."
      ]
    },
    {
      "cell_type": "markdown",
      "metadata": {
        "id": "-PLd3eQtbQBA"
      },
      "source": [
        "## Question 2 [19 pts]\n",
        "Please answer the following questions with brief answers of no more than 2-3 sentences:"
      ]
    },
    {
      "cell_type": "markdown",
      "metadata": {
        "id": "SF0dO9j4bQBA"
      },
      "source": [
        "### Q2.1 (3 pts)\n",
        "The perceptron and logistic regression are both considered types of artificial neurons.  What are the main difference(s) between them?"
      ]
    },
    {
      "cell_type": "markdown",
      "metadata": {
        "id": "jsX1TaDnbQBB"
      },
      "source": [
        "YOUR ANSWER HERE:\n",
        "\n",
        "The perceptron provides binary outputs and discrete predictions by passing it through a threshold, while logistic regression provides either probabilistic or discrete predictions by using a sigmoid function to ouput values between 0 and 1. This represents the probability belonging to a class, and if we want discrete predictions, we pass through a threshold afterward. Furthermore, the perceptron updates its weights based only on misclassfied points, while logisitc regression uses a cost function and gradient descent to minimize the cost function."
      ]
    },
    {
      "cell_type": "markdown",
      "metadata": {
        "id": "nABoG28EbQBB"
      },
      "source": [
        "### Q2.2 (3 pts)\n",
        "What benefit do we get when we combine many logistic regression units (or units with another activation function) into a neural network, rather than just using a single logistic regression unit?"
      ]
    },
    {
      "cell_type": "markdown",
      "metadata": {
        "id": "QDLWvqSobQBB"
      },
      "source": [
        "YOUR ANSWER HERE:\n",
        "\n",
        "It allows for much more complex calculations including handling non-linear relationships, a very large number of features, and unstructured data. Furthermore, we have the ability to customize the architecture of the neural network and it requires little to no feature engineering."
      ]
    },
    {
      "cell_type": "markdown",
      "metadata": {
        "id": "-akvUzLJbQBC"
      },
      "source": [
        "### Q2.3 (3 pts)\n",
        "What does backpropagation mean and why do we use it to train a neural network?"
      ]
    },
    {
      "cell_type": "markdown",
      "metadata": {
        "id": "hYjK0DxybQBC"
      },
      "source": [
        "YOUR ANSWER HERE:\n",
        "\n",
        "Backpropogation is used to train a neural network to update the weights for each feature, giving us the ability to minimize loss and generate accurate predictions. It works by first allowing for a forward propogation to calculate error by using the cost function, and then working in reverse order to distribute the total output error among each layer. We calculate the derivative of the cost with respect to each weight and update the weights using gradient descent."
      ]
    },
    {
      "cell_type": "markdown",
      "metadata": {
        "id": "IKen1btjbQBC"
      },
      "source": [
        "### Q2.4 (3 pts)\n",
        "What does the learning rate do while training a neural network?  Why is it so important to set it within the right range for the problem – specifically, what happens when it is set too high, and when it is set too low?"
      ]
    },
    {
      "cell_type": "markdown",
      "metadata": {
        "id": "0sCPREIPbQBD"
      },
      "source": [
        "YOUR ANSWER HERE:\n",
        "\n",
        "The learning rate is a hyperparameter that controls the size of the steps taken when updating the weights of a neural network. A learning rate that is too high risks overshooting the optimal weight values and not convering. A learning rate that is too low causes the optimization process to be very slow, and could lead to convergence at a local minima (suboptimal)."
      ]
    },
    {
      "cell_type": "markdown",
      "metadata": {
        "id": "iM8WsF8ZbQBD"
      },
      "source": [
        "### Q2.5 (3 pts)\n",
        "List three reasons why we might choose NOT to use a neural network and instead use a different algorithm?"
      ]
    },
    {
      "cell_type": "markdown",
      "metadata": {
        "id": "QW29bYdpbQBD"
      },
      "source": [
        "YOUR ANSWER HERE:\n",
        "\n",
        "Neural networks can be very computationally expensive and resource intensive, and therefore, if we have limited resources we may choose a different algorithm. Second, neural networks can be difficult to interpret, so if interpretability is a big concern we may choose a different algorithm. Third, neural networks can overfit, particularly on small amounts of data, so if we have a small dataset another algorithm may be more suitable."
      ]
    },
    {
      "cell_type": "markdown",
      "metadata": {
        "id": "hYG8X8jxbQBD"
      },
      "source": [
        "### Q2.6 (4 pts)\n",
        "When we have a multi-class, single-label classification problem, how do we make the final prediction of the target label, given the outputs of the neural network?  How does this process differ if we have a multi-class, multi-label problem instead?"
      ]
    },
    {
      "cell_type": "markdown",
      "metadata": {
        "id": "EWXMtmmBbQBD"
      },
      "source": [
        "YOUR ANSWER HERE:\n",
        "\n"
      ]
    },
    {
      "cell_type": "markdown",
      "metadata": {
        "id": "M46eVJI1bQBD"
      },
      "source": [
        "## Question 3 [10 pts]\n"
      ]
    },
    {
      "cell_type": "markdown",
      "metadata": {
        "id": "wVyFDSvUbQBD"
      },
      "source": [
        "### Q3.1 (4 points)\n",
        "Provide a real-world example of when clustering would be used.  Explain why clustering would be used instead of a supervised machine learning method."
      ]
    },
    {
      "cell_type": "markdown",
      "metadata": {
        "id": "H1_fkRRAbQBE"
      },
      "source": [
        "YOUR ANSWER HERE"
      ]
    },
    {
      "cell_type": "markdown",
      "metadata": {
        "id": "hU3af2Q-bQBE"
      },
      "source": [
        "### Q3.2 (6 points)\n",
        "Explain in a short paragraph how K-Means clustering and Agglomerative Hierarchical clustering differ in how they each form groups from the datapoints."
      ]
    },
    {
      "cell_type": "markdown",
      "metadata": {
        "id": "Gbz4QOd0bQBE"
      },
      "source": [
        "YOUR ANSWER HERE"
      ]
    },
    {
      "cell_type": "markdown",
      "metadata": {
        "deletable": false,
        "editable": false,
        "nbgrader": {
          "cell_type": "markdown",
          "checksum": "c6aa1309acf9a36f73c4628f39a8cf8b",
          "grade": false,
          "grade_id": "cell-ee3030791fb5294d",
          "locked": true,
          "schema_version": 3,
          "solution": false,
          "task": false
        },
        "id": "ECp38xv7bQBE"
      },
      "source": [
        "## Question 4 [28 pts]\n",
        "For this question we are going to examine factors which correlate to higher per-capita violent crime rates in communities across the U.S.  We have a large number of possible features to use (122) which include demographic data as well as data about police presence in the communities.  Refer to [this site](https://archive.ics.uci.edu/ml/datasets/communities+and+crime) for the explanation of each of the features included.\n",
        "\n",
        "All numerical features (excluding the state, county and community codes) have been normalized to the range [0,1].  Additionally, outliers were removed by setting all values 3 standard deviations or more above the mean to 1 and all values 3 standard deviations or more below the mean to 0.\n",
        "\n",
        "Note: the target variable we are predicting is the rate of **reported crime** (which is not necessarily equal to the rate of actual crime."
      ]
    },
    {
      "cell_type": "code",
      "execution_count": 3,
      "metadata": {
        "deletable": false,
        "editable": false,
        "nbgrader": {
          "cell_type": "code",
          "checksum": "d289296566b9447312ed01185149f4c0",
          "grade": false,
          "grade_id": "cell-5704486cd18ae68f",
          "locked": true,
          "schema_version": 3,
          "solution": false,
          "task": false
        },
        "colab": {
          "base_uri": "https://localhost:8080/",
          "height": 273
        },
        "id": "m2UHuxUIbQBE",
        "outputId": "cefad431-dc74-4e54-eacd-5f44fe5e16d3"
      },
      "outputs": [
        {
          "output_type": "stream",
          "name": "stdout",
          "text": [
            "(1994, 123)\n"
          ]
        },
        {
          "output_type": "execute_result",
          "data": {
            "text/plain": [
              "   population  householdsize  racepctblack  racePctWhite  racePctAsian  \\\n",
              "0        0.19           0.33          0.02          0.90          0.12   \n",
              "1        0.00           0.16          0.12          0.74          0.45   \n",
              "2        0.00           0.42          0.49          0.56          0.17   \n",
              "3        0.04           0.77          1.00          0.08          0.12   \n",
              "4        0.01           0.55          0.02          0.95          0.09   \n",
              "\n",
              "   racePctHisp  agePct12t21  agePct12t29  agePct16t24  agePct65up  ...  \\\n",
              "0         0.17         0.34         0.47         0.29        0.32  ...   \n",
              "1         0.07         0.26         0.59         0.35        0.27  ...   \n",
              "2         0.04         0.39         0.47         0.28        0.32  ...   \n",
              "3         0.10         0.51         0.50         0.34        0.21  ...   \n",
              "4         0.05         0.38         0.38         0.23        0.36  ...   \n",
              "\n",
              "   LandArea  PopDens  PctUsePubTrans  PolicCars  PolicOperBudg  \\\n",
              "0      0.12     0.26            0.20   0.060000       0.040000   \n",
              "1      0.02     0.12            0.45   0.163103       0.076708   \n",
              "2      0.01     0.21            0.02   0.163103       0.076708   \n",
              "3      0.02     0.39            0.28   0.163103       0.076708   \n",
              "4      0.04     0.09            0.02   0.163103       0.076708   \n",
              "\n",
              "   LemasPctPolicOnPatr  LemasGangUnitDeploy  LemasPctOfficDrugUn  \\\n",
              "0             0.900000             0.500000                 0.32   \n",
              "1             0.698589             0.440439                 0.00   \n",
              "2             0.698589             0.440439                 0.00   \n",
              "3             0.698589             0.440439                 0.00   \n",
              "4             0.698589             0.440439                 0.00   \n",
              "\n",
              "   PolicBudgPerPop  ViolentCrimesPerPop  \n",
              "0         0.140000                 0.20  \n",
              "1         0.195078                 0.67  \n",
              "2         0.195078                 0.43  \n",
              "3         0.195078                 0.12  \n",
              "4         0.195078                 0.03  \n",
              "\n",
              "[5 rows x 123 columns]"
            ],
            "text/html": [
              "\n",
              "  <div id=\"df-f4964dd9-4e3d-4132-b01a-32400e5da7bb\" class=\"colab-df-container\">\n",
              "    <div>\n",
              "<style scoped>\n",
              "    .dataframe tbody tr th:only-of-type {\n",
              "        vertical-align: middle;\n",
              "    }\n",
              "\n",
              "    .dataframe tbody tr th {\n",
              "        vertical-align: top;\n",
              "    }\n",
              "\n",
              "    .dataframe thead th {\n",
              "        text-align: right;\n",
              "    }\n",
              "</style>\n",
              "<table border=\"1\" class=\"dataframe\">\n",
              "  <thead>\n",
              "    <tr style=\"text-align: right;\">\n",
              "      <th></th>\n",
              "      <th>population</th>\n",
              "      <th>householdsize</th>\n",
              "      <th>racepctblack</th>\n",
              "      <th>racePctWhite</th>\n",
              "      <th>racePctAsian</th>\n",
              "      <th>racePctHisp</th>\n",
              "      <th>agePct12t21</th>\n",
              "      <th>agePct12t29</th>\n",
              "      <th>agePct16t24</th>\n",
              "      <th>agePct65up</th>\n",
              "      <th>...</th>\n",
              "      <th>LandArea</th>\n",
              "      <th>PopDens</th>\n",
              "      <th>PctUsePubTrans</th>\n",
              "      <th>PolicCars</th>\n",
              "      <th>PolicOperBudg</th>\n",
              "      <th>LemasPctPolicOnPatr</th>\n",
              "      <th>LemasGangUnitDeploy</th>\n",
              "      <th>LemasPctOfficDrugUn</th>\n",
              "      <th>PolicBudgPerPop</th>\n",
              "      <th>ViolentCrimesPerPop</th>\n",
              "    </tr>\n",
              "  </thead>\n",
              "  <tbody>\n",
              "    <tr>\n",
              "      <th>0</th>\n",
              "      <td>0.19</td>\n",
              "      <td>0.33</td>\n",
              "      <td>0.02</td>\n",
              "      <td>0.90</td>\n",
              "      <td>0.12</td>\n",
              "      <td>0.17</td>\n",
              "      <td>0.34</td>\n",
              "      <td>0.47</td>\n",
              "      <td>0.29</td>\n",
              "      <td>0.32</td>\n",
              "      <td>...</td>\n",
              "      <td>0.12</td>\n",
              "      <td>0.26</td>\n",
              "      <td>0.20</td>\n",
              "      <td>0.060000</td>\n",
              "      <td>0.040000</td>\n",
              "      <td>0.900000</td>\n",
              "      <td>0.500000</td>\n",
              "      <td>0.32</td>\n",
              "      <td>0.140000</td>\n",
              "      <td>0.20</td>\n",
              "    </tr>\n",
              "    <tr>\n",
              "      <th>1</th>\n",
              "      <td>0.00</td>\n",
              "      <td>0.16</td>\n",
              "      <td>0.12</td>\n",
              "      <td>0.74</td>\n",
              "      <td>0.45</td>\n",
              "      <td>0.07</td>\n",
              "      <td>0.26</td>\n",
              "      <td>0.59</td>\n",
              "      <td>0.35</td>\n",
              "      <td>0.27</td>\n",
              "      <td>...</td>\n",
              "      <td>0.02</td>\n",
              "      <td>0.12</td>\n",
              "      <td>0.45</td>\n",
              "      <td>0.163103</td>\n",
              "      <td>0.076708</td>\n",
              "      <td>0.698589</td>\n",
              "      <td>0.440439</td>\n",
              "      <td>0.00</td>\n",
              "      <td>0.195078</td>\n",
              "      <td>0.67</td>\n",
              "    </tr>\n",
              "    <tr>\n",
              "      <th>2</th>\n",
              "      <td>0.00</td>\n",
              "      <td>0.42</td>\n",
              "      <td>0.49</td>\n",
              "      <td>0.56</td>\n",
              "      <td>0.17</td>\n",
              "      <td>0.04</td>\n",
              "      <td>0.39</td>\n",
              "      <td>0.47</td>\n",
              "      <td>0.28</td>\n",
              "      <td>0.32</td>\n",
              "      <td>...</td>\n",
              "      <td>0.01</td>\n",
              "      <td>0.21</td>\n",
              "      <td>0.02</td>\n",
              "      <td>0.163103</td>\n",
              "      <td>0.076708</td>\n",
              "      <td>0.698589</td>\n",
              "      <td>0.440439</td>\n",
              "      <td>0.00</td>\n",
              "      <td>0.195078</td>\n",
              "      <td>0.43</td>\n",
              "    </tr>\n",
              "    <tr>\n",
              "      <th>3</th>\n",
              "      <td>0.04</td>\n",
              "      <td>0.77</td>\n",
              "      <td>1.00</td>\n",
              "      <td>0.08</td>\n",
              "      <td>0.12</td>\n",
              "      <td>0.10</td>\n",
              "      <td>0.51</td>\n",
              "      <td>0.50</td>\n",
              "      <td>0.34</td>\n",
              "      <td>0.21</td>\n",
              "      <td>...</td>\n",
              "      <td>0.02</td>\n",
              "      <td>0.39</td>\n",
              "      <td>0.28</td>\n",
              "      <td>0.163103</td>\n",
              "      <td>0.076708</td>\n",
              "      <td>0.698589</td>\n",
              "      <td>0.440439</td>\n",
              "      <td>0.00</td>\n",
              "      <td>0.195078</td>\n",
              "      <td>0.12</td>\n",
              "    </tr>\n",
              "    <tr>\n",
              "      <th>4</th>\n",
              "      <td>0.01</td>\n",
              "      <td>0.55</td>\n",
              "      <td>0.02</td>\n",
              "      <td>0.95</td>\n",
              "      <td>0.09</td>\n",
              "      <td>0.05</td>\n",
              "      <td>0.38</td>\n",
              "      <td>0.38</td>\n",
              "      <td>0.23</td>\n",
              "      <td>0.36</td>\n",
              "      <td>...</td>\n",
              "      <td>0.04</td>\n",
              "      <td>0.09</td>\n",
              "      <td>0.02</td>\n",
              "      <td>0.163103</td>\n",
              "      <td>0.076708</td>\n",
              "      <td>0.698589</td>\n",
              "      <td>0.440439</td>\n",
              "      <td>0.00</td>\n",
              "      <td>0.195078</td>\n",
              "      <td>0.03</td>\n",
              "    </tr>\n",
              "  </tbody>\n",
              "</table>\n",
              "<p>5 rows × 123 columns</p>\n",
              "</div>\n",
              "    <div class=\"colab-df-buttons\">\n",
              "\n",
              "  <div class=\"colab-df-container\">\n",
              "    <button class=\"colab-df-convert\" onclick=\"convertToInteractive('df-f4964dd9-4e3d-4132-b01a-32400e5da7bb')\"\n",
              "            title=\"Convert this dataframe to an interactive table.\"\n",
              "            style=\"display:none;\">\n",
              "\n",
              "  <svg xmlns=\"http://www.w3.org/2000/svg\" height=\"24px\" viewBox=\"0 -960 960 960\">\n",
              "    <path d=\"M120-120v-720h720v720H120Zm60-500h600v-160H180v160Zm220 220h160v-160H400v160Zm0 220h160v-160H400v160ZM180-400h160v-160H180v160Zm440 0h160v-160H620v160ZM180-180h160v-160H180v160Zm440 0h160v-160H620v160Z\"/>\n",
              "  </svg>\n",
              "    </button>\n",
              "\n",
              "  <style>\n",
              "    .colab-df-container {\n",
              "      display:flex;\n",
              "      gap: 12px;\n",
              "    }\n",
              "\n",
              "    .colab-df-convert {\n",
              "      background-color: #E8F0FE;\n",
              "      border: none;\n",
              "      border-radius: 50%;\n",
              "      cursor: pointer;\n",
              "      display: none;\n",
              "      fill: #1967D2;\n",
              "      height: 32px;\n",
              "      padding: 0 0 0 0;\n",
              "      width: 32px;\n",
              "    }\n",
              "\n",
              "    .colab-df-convert:hover {\n",
              "      background-color: #E2EBFA;\n",
              "      box-shadow: 0px 1px 2px rgba(60, 64, 67, 0.3), 0px 1px 3px 1px rgba(60, 64, 67, 0.15);\n",
              "      fill: #174EA6;\n",
              "    }\n",
              "\n",
              "    .colab-df-buttons div {\n",
              "      margin-bottom: 4px;\n",
              "    }\n",
              "\n",
              "    [theme=dark] .colab-df-convert {\n",
              "      background-color: #3B4455;\n",
              "      fill: #D2E3FC;\n",
              "    }\n",
              "\n",
              "    [theme=dark] .colab-df-convert:hover {\n",
              "      background-color: #434B5C;\n",
              "      box-shadow: 0px 1px 3px 1px rgba(0, 0, 0, 0.15);\n",
              "      filter: drop-shadow(0px 1px 2px rgba(0, 0, 0, 0.3));\n",
              "      fill: #FFFFFF;\n",
              "    }\n",
              "  </style>\n",
              "\n",
              "    <script>\n",
              "      const buttonEl =\n",
              "        document.querySelector('#df-f4964dd9-4e3d-4132-b01a-32400e5da7bb button.colab-df-convert');\n",
              "      buttonEl.style.display =\n",
              "        google.colab.kernel.accessAllowed ? 'block' : 'none';\n",
              "\n",
              "      async function convertToInteractive(key) {\n",
              "        const element = document.querySelector('#df-f4964dd9-4e3d-4132-b01a-32400e5da7bb');\n",
              "        const dataTable =\n",
              "          await google.colab.kernel.invokeFunction('convertToInteractive',\n",
              "                                                    [key], {});\n",
              "        if (!dataTable) return;\n",
              "\n",
              "        const docLinkHtml = 'Like what you see? Visit the ' +\n",
              "          '<a target=\"_blank\" href=https://colab.research.google.com/notebooks/data_table.ipynb>data table notebook</a>'\n",
              "          + ' to learn more about interactive tables.';\n",
              "        element.innerHTML = '';\n",
              "        dataTable['output_type'] = 'display_data';\n",
              "        await google.colab.output.renderOutput(dataTable, element);\n",
              "        const docLink = document.createElement('div');\n",
              "        docLink.innerHTML = docLinkHtml;\n",
              "        element.appendChild(docLink);\n",
              "      }\n",
              "    </script>\n",
              "  </div>\n",
              "\n",
              "\n",
              "<div id=\"df-b005ddcf-74a1-400b-b1c7-4e3643150cc0\">\n",
              "  <button class=\"colab-df-quickchart\" onclick=\"quickchart('df-b005ddcf-74a1-400b-b1c7-4e3643150cc0')\"\n",
              "            title=\"Suggest charts\"\n",
              "            style=\"display:none;\">\n",
              "\n",
              "<svg xmlns=\"http://www.w3.org/2000/svg\" height=\"24px\"viewBox=\"0 0 24 24\"\n",
              "     width=\"24px\">\n",
              "    <g>\n",
              "        <path d=\"M19 3H5c-1.1 0-2 .9-2 2v14c0 1.1.9 2 2 2h14c1.1 0 2-.9 2-2V5c0-1.1-.9-2-2-2zM9 17H7v-7h2v7zm4 0h-2V7h2v10zm4 0h-2v-4h2v4z\"/>\n",
              "    </g>\n",
              "</svg>\n",
              "  </button>\n",
              "\n",
              "<style>\n",
              "  .colab-df-quickchart {\n",
              "      --bg-color: #E8F0FE;\n",
              "      --fill-color: #1967D2;\n",
              "      --hover-bg-color: #E2EBFA;\n",
              "      --hover-fill-color: #174EA6;\n",
              "      --disabled-fill-color: #AAA;\n",
              "      --disabled-bg-color: #DDD;\n",
              "  }\n",
              "\n",
              "  [theme=dark] .colab-df-quickchart {\n",
              "      --bg-color: #3B4455;\n",
              "      --fill-color: #D2E3FC;\n",
              "      --hover-bg-color: #434B5C;\n",
              "      --hover-fill-color: #FFFFFF;\n",
              "      --disabled-bg-color: #3B4455;\n",
              "      --disabled-fill-color: #666;\n",
              "  }\n",
              "\n",
              "  .colab-df-quickchart {\n",
              "    background-color: var(--bg-color);\n",
              "    border: none;\n",
              "    border-radius: 50%;\n",
              "    cursor: pointer;\n",
              "    display: none;\n",
              "    fill: var(--fill-color);\n",
              "    height: 32px;\n",
              "    padding: 0;\n",
              "    width: 32px;\n",
              "  }\n",
              "\n",
              "  .colab-df-quickchart:hover {\n",
              "    background-color: var(--hover-bg-color);\n",
              "    box-shadow: 0 1px 2px rgba(60, 64, 67, 0.3), 0 1px 3px 1px rgba(60, 64, 67, 0.15);\n",
              "    fill: var(--button-hover-fill-color);\n",
              "  }\n",
              "\n",
              "  .colab-df-quickchart-complete:disabled,\n",
              "  .colab-df-quickchart-complete:disabled:hover {\n",
              "    background-color: var(--disabled-bg-color);\n",
              "    fill: var(--disabled-fill-color);\n",
              "    box-shadow: none;\n",
              "  }\n",
              "\n",
              "  .colab-df-spinner {\n",
              "    border: 2px solid var(--fill-color);\n",
              "    border-color: transparent;\n",
              "    border-bottom-color: var(--fill-color);\n",
              "    animation:\n",
              "      spin 1s steps(1) infinite;\n",
              "  }\n",
              "\n",
              "  @keyframes spin {\n",
              "    0% {\n",
              "      border-color: transparent;\n",
              "      border-bottom-color: var(--fill-color);\n",
              "      border-left-color: var(--fill-color);\n",
              "    }\n",
              "    20% {\n",
              "      border-color: transparent;\n",
              "      border-left-color: var(--fill-color);\n",
              "      border-top-color: var(--fill-color);\n",
              "    }\n",
              "    30% {\n",
              "      border-color: transparent;\n",
              "      border-left-color: var(--fill-color);\n",
              "      border-top-color: var(--fill-color);\n",
              "      border-right-color: var(--fill-color);\n",
              "    }\n",
              "    40% {\n",
              "      border-color: transparent;\n",
              "      border-right-color: var(--fill-color);\n",
              "      border-top-color: var(--fill-color);\n",
              "    }\n",
              "    60% {\n",
              "      border-color: transparent;\n",
              "      border-right-color: var(--fill-color);\n",
              "    }\n",
              "    80% {\n",
              "      border-color: transparent;\n",
              "      border-right-color: var(--fill-color);\n",
              "      border-bottom-color: var(--fill-color);\n",
              "    }\n",
              "    90% {\n",
              "      border-color: transparent;\n",
              "      border-bottom-color: var(--fill-color);\n",
              "    }\n",
              "  }\n",
              "</style>\n",
              "\n",
              "  <script>\n",
              "    async function quickchart(key) {\n",
              "      const quickchartButtonEl =\n",
              "        document.querySelector('#' + key + ' button');\n",
              "      quickchartButtonEl.disabled = true;  // To prevent multiple clicks.\n",
              "      quickchartButtonEl.classList.add('colab-df-spinner');\n",
              "      try {\n",
              "        const charts = await google.colab.kernel.invokeFunction(\n",
              "            'suggestCharts', [key], {});\n",
              "      } catch (error) {\n",
              "        console.error('Error during call to suggestCharts:', error);\n",
              "      }\n",
              "      quickchartButtonEl.classList.remove('colab-df-spinner');\n",
              "      quickchartButtonEl.classList.add('colab-df-quickchart-complete');\n",
              "    }\n",
              "    (() => {\n",
              "      let quickchartButtonEl =\n",
              "        document.querySelector('#df-b005ddcf-74a1-400b-b1c7-4e3643150cc0 button');\n",
              "      quickchartButtonEl.style.display =\n",
              "        google.colab.kernel.accessAllowed ? 'block' : 'none';\n",
              "    })();\n",
              "  </script>\n",
              "</div>\n",
              "    </div>\n",
              "  </div>\n"
            ]
          },
          "metadata": {},
          "execution_count": 3
        }
      ],
      "source": [
        "# Read data in and clean up\n",
        "crimes = pd.read_csv('communities.csv',na_values=['?'])\n",
        "crimes.drop(columns=['state','country','community','communityname','fold'],inplace=True)\n",
        "crimes.fillna(crimes.mean(),inplace=True)\n",
        "print(crimes.shape)\n",
        "crimes.head()"
      ]
    },
    {
      "cell_type": "code",
      "execution_count": 4,
      "metadata": {
        "deletable": false,
        "editable": false,
        "nbgrader": {
          "cell_type": "code",
          "checksum": "175c24ee8923c3c982e76b2196557c38",
          "grade": false,
          "grade_id": "cell-40ab96abd54e01f3",
          "locked": true,
          "schema_version": 3,
          "solution": false,
          "task": false
        },
        "id": "7uYOBN_DbQBE"
      },
      "outputs": [],
      "source": [
        "X = crimes.iloc[:,:-1]\n",
        "y = crimes.iloc[:,-1]\n",
        "\n",
        "# Split our data into training and test sets\n",
        "X_train, X_test, y_train, y_test = train_test_split(X,y,random_state=0, test_size=0.2)"
      ]
    },
    {
      "cell_type": "markdown",
      "metadata": {
        "deletable": false,
        "editable": false,
        "nbgrader": {
          "cell_type": "markdown",
          "checksum": "8067b8182e098d41192bfedf883554e6",
          "grade": false,
          "grade_id": "cell-fc814169806c5865",
          "locked": true,
          "schema_version": 3,
          "solution": false,
          "task": false
        },
        "id": "Rv-o7BnIbQBF"
      },
      "source": [
        "### Q4.1\n",
        "Let's start by using a linear regression model on the dataset.  In the cell below, use the training data to train a linear regression model, and return the trained linear model and the MSE on the test set.  Then follow the below instructions to create the plot, and then answer the question below."
      ]
    },
    {
      "cell_type": "code",
      "execution_count": 8,
      "metadata": {
        "deletable": false,
        "nbgrader": {
          "cell_type": "code",
          "checksum": "a3e086c72aad73401ad1d36563b81235",
          "grade": false,
          "grade_id": "cell-5b20615cf2503662",
          "locked": false,
          "schema_version": 3,
          "solution": true,
          "task": false
        },
        "id": "XNo5-B_-bQBL"
      },
      "outputs": [],
      "source": [
        "def run_linmodel(X_train,y_train,X_test,y_test):\n",
        "    '''\n",
        "    Trains a linear regression model and calculates the MSE on the test set\n",
        "\n",
        "    Inputs:\n",
        "        X_train(pd.DataFrame): dataframe containing the training set inputs\n",
        "        y_train(pd.DataFrame): dataframe containing the training set labels\n",
        "        X_test(pd.DataFrame): dataframe containing the test set inputs\n",
        "        y_test(pd.DataFrame): dataframe containing the test set labels\n",
        "\n",
        "    Returns:\n",
        "        linmodel(sklearn.linear_model.LinearRegression): trained model\n",
        "        test_mse(float): MSE on the test set\n",
        "    '''\n",
        "    # YOUR CODE HERE\n",
        "    # Initialize and train linear regression\n",
        "    linmodel = LinearRegression()\n",
        "    linmodel.fit(X_train, y_train)\n",
        "\n",
        "    # Make predictions\n",
        "    y_pred = linmodel.predict(X_test)\n",
        "\n",
        "    # Calculate MSE\n",
        "    squared_errors = (y_test - y_pred) ** 2\n",
        "    test_mse = squared_errors.mean()\n",
        "\n",
        "    return linmodel, test_mse\n",
        "\n"
      ]
    },
    {
      "cell_type": "code",
      "execution_count": 9,
      "metadata": {
        "deletable": false,
        "editable": false,
        "nbgrader": {
          "cell_type": "code",
          "checksum": "3f086a9a9fcd06cb975ad3e14c5f5293",
          "grade": false,
          "grade_id": "cell-726431281d23992b",
          "locked": true,
          "schema_version": 3,
          "solution": false,
          "task": false
        },
        "colab": {
          "base_uri": "https://localhost:8080/"
        },
        "id": "6Hd9pczNbQBM",
        "outputId": "686e6a8c-bef7-495f-bd00-46a67185527c"
      },
      "outputs": [
        {
          "output_type": "stream",
          "name": "stdout",
          "text": [
            "The test set MSE of your model is 0.0209\n"
          ]
        }
      ],
      "source": [
        "# Get test set predictions using your linear model\n",
        "lnmodel, mse = run_linmodel(X_train,y_train,X_test,y_test)\n",
        "\n",
        "print('The test set MSE of your model is {:.4f}'.format(mse))"
      ]
    },
    {
      "cell_type": "markdown",
      "metadata": {
        "deletable": false,
        "editable": false,
        "nbgrader": {
          "cell_type": "markdown",
          "checksum": "7392767e013040eeec559b0c2cb09093",
          "grade": false,
          "grade_id": "cell-765d8f62896244b5",
          "locked": true,
          "schema_version": 3,
          "solution": false,
          "task": false
        },
        "id": "dQKu4yO5bQBM"
      },
      "source": [
        "Use the cell below to create a plot of the residuals (errors) versus the predicted values for the **training data**.  Then, answer the question below, referring to your plot to support your answer."
      ]
    },
    {
      "cell_type": "code",
      "execution_count": 11,
      "metadata": {
        "deletable": false,
        "nbgrader": {
          "cell_type": "code",
          "checksum": "8132963bffac1de6b8932b5564f43409",
          "grade": false,
          "grade_id": "cell-6fa4a90c19c958c6",
          "locked": false,
          "schema_version": 3,
          "solution": true,
          "task": false
        },
        "colab": {
          "base_uri": "https://localhost:8080/",
          "height": 564
        },
        "id": "72MEIkoUbQBM",
        "outputId": "82d1ccb9-a318-47a4-e162-c56e68c43c0d"
      },
      "outputs": [
        {
          "output_type": "display_data",
          "data": {
            "text/plain": [
              "<Figure size 800x600 with 1 Axes>"
            ],
            "image/png": "[encoded data removed]"
          },
          "metadata": {}
        }
      ],
      "source": [
        "# YOUR CODE HERE\n",
        "# Get the predicted values on the training data\n",
        "y_train_pred = lnmodel.predict(X_train)\n",
        "\n",
        "# Calculate the residuals (errors)\n",
        "residuals = y_train - y_train_pred\n",
        "\n",
        "# Create a scatter plot of residuals vs. predicted values\n",
        "plt.figure(figsize=(8, 6))\n",
        "plt.scatter(y_train_pred, residuals, alpha=0.5)\n",
        "plt.xlabel(\"Predicted Values\")\n",
        "plt.ylabel(\"Residuals\")\n",
        "plt.title(\"Residuals vs. Predicted Values (Training Data)\")\n",
        "plt.axhline(y=0, color='r', linestyle='--', linewidth=1)  # Add a horizontal line at y=0\n",
        "plt.grid(True)\n",
        "plt.show()"
      ]
    },
    {
      "cell_type": "markdown",
      "metadata": {
        "id": "8GWRxw1dbQBM"
      },
      "source": [
        "### Q4.1 (6 points)\n",
        "1)  Does the assumption of linearity between the feature set and target generally appear to hold?  Explain your answer by referring to your plot.  If your answer is “no”, what should we do to potentially improve the fit of our linear regression model?  \n",
        "\n",
        "3)\tDoes the assumption of constant variance of errors (homoscedasticity) hold?  Defend your answer by referring to your plot."
      ]
    },
    {
      "cell_type": "markdown",
      "metadata": {
        "id": "HJJgPDbxbQBN"
      },
      "source": [
        "YOUR ANSWER HERE"
      ]
    },
    {
      "cell_type": "markdown",
      "metadata": {
        "deletable": false,
        "editable": false,
        "nbgrader": {
          "cell_type": "markdown",
          "checksum": "d445785e7a0ae3876e4ad06053b83794",
          "grade": false,
          "grade_id": "cell-6b35af3ff858e56a",
          "locked": true,
          "schema_version": 3,
          "solution": false,
          "task": false
        },
        "id": "uIvY7W6YbQBN"
      },
      "source": [
        "### Q4.2\n",
        "Complete the function `build_shallow_tree()` which creates a shallow decision tree model from the training data using `max_depth=2` and `random_state=0`, and then calculates its MSE on the test set.  You should fit your tree to the training data and then return the fitted tree model and the test set MSE.  Then run the cell below to dispay the tree and answer the question below"
      ]
    },
    {
      "cell_type": "code",
      "execution_count": 12,
      "metadata": {
        "deletable": false,
        "nbgrader": {
          "cell_type": "code",
          "checksum": "5d6941f2dc571bbedd6bc4e4b710fd2b",
          "grade": false,
          "grade_id": "cell-1a9007aa9605a314",
          "locked": false,
          "schema_version": 3,
          "solution": true,
          "task": false
        },
        "id": "exaF7mc5bQBN"
      },
      "outputs": [],
      "source": [
        "def build_shallow_tree(X_train,y_train,X_test,y_test):\n",
        "    '''\n",
        "    Trains a tree model with max_depth=2 on the data\n",
        "\n",
        "    Inputs:\n",
        "        X_train(pd.DataFrame): dataframe of the training data inputs\n",
        "        y_train(pd.DataFrame): dataframe of the training data labels\n",
        "        X_test(pd.DataFrame): dataframe containing the test set inputs\n",
        "        y_test(pd.DataFrame): dataframe containing the test set labels\n",
        "\n",
        "    Returns:\n",
        "        tree_model(sklearn.tree.DecisionTreeRegressor): trained tree model\n",
        "        test_mse(float): the MSE on the test set\n",
        "    '''\n",
        "    # YOUR CODE HERE\n",
        "    # Initialize a shallow decision tree model\n",
        "    tree = DecisionTreeRegressor(max_depth=2, random_state=0)\n",
        "\n",
        "    # Fit the tree to the training data\n",
        "    tree.fit(X_train, y_train)\n",
        "\n",
        "    # Make predictions on the test set\n",
        "    y_pred = tree.predict(X_test)\n",
        "\n",
        "    # Calculate the Mean Squared Error (MSE) manually\n",
        "    squared_errors = (y_test - y_pred) ** 2\n",
        "    test_mse = squared_errors.mean()\n",
        "\n",
        "    return tree, test_mse"
      ]
    },
    {
      "cell_type": "code",
      "execution_count": 13,
      "metadata": {
        "deletable": false,
        "editable": false,
        "nbgrader": {
          "cell_type": "code",
          "checksum": "025939fe46fd38af57816cb6869980f1",
          "grade": false,
          "grade_id": "cell-3861093a85300660",
          "locked": true,
          "schema_version": 3,
          "solution": false,
          "task": false
        },
        "colab": {
          "base_uri": "https://localhost:8080/",
          "height": 979
        },
        "id": "Y8lVg3UobQBO",
        "outputId": "8dc781d8-12c4-47a4-a382-311f691185ff"
      },
      "outputs": [
        {
          "output_type": "stream",
          "name": "stdout",
          "text": [
            "MSE on the test set: 0.029\n"
          ]
        },
        {
          "output_type": "display_data",
          "data": {
            "text/plain": [
              "<Figure size 1200x1200 with 1 Axes>"
            ],
            "image/png": "[encoded data removed]"
          },
          "metadata": {}
        }
      ],
      "source": [
        "# Run cell to display your tree\n",
        "tree, test_mse = build_shallow_tree(X_train,y_train,X_test,y_test)\n",
        "\n",
        "print('MSE on the test set: {:.3f}'.format(test_mse))\n",
        "plt.figure(figsize=(12,12))\n",
        "plot_tree(tree,feature_names=list(X.columns),filled=True)\n",
        "plt.show()"
      ]
    },
    {
      "cell_type": "markdown",
      "metadata": {
        "id": "dYIS4UaPbQBO"
      },
      "source": [
        "### Q4.2 (4 points)\n",
        "Based on the 2-layer tree you created, which criteria (features and values) result in the smallest per-capita rate of violent crime in a community?  Out of the number of communities in the training set, how many of them were predicted by your model to have this lowest per-capita violent crime rate?"
      ]
    },
    {
      "cell_type": "markdown",
      "metadata": {
        "id": "XqlXinRjbQBO"
      },
      "source": [
        "YOUR ANSWER HERE"
      ]
    },
    {
      "cell_type": "markdown",
      "metadata": {
        "deletable": false,
        "editable": false,
        "nbgrader": {
          "cell_type": "markdown",
          "checksum": "2d4024f2afb8dc053ad9b36a9b3c5094",
          "grade": false,
          "grade_id": "cell-aa3b4fe970932135",
          "locked": true,
          "schema_version": 3,
          "solution": false,
          "task": false
        },
        "id": "DZYeELtYbQBO"
      },
      "source": [
        "### Q4.3 [6 points]\n",
        "Let's now try a random forest model.  Complete the function `run_rf_model()` which takes the training and test sets as inputs as well as lists of possible values to evaluate for the hyperparameters `min_samples_leaf` and `max_features`.  Your function should use cross-validation (you can use `cross_val_score` with 3-fold cross-validation and `neg_mean_squared_error` as the scoring metric) to determine the optimal values for `min_samples_leaf` and `max_features` from among the options in the input lists.  When instantiating the `RandomForestRegressor` be sure to use `random_state=0` and keep everything at the default settings except the two hyperparameters you are optimizing.  After you have found the optimal vlaues for `min_samples_leaf` and `max_features` (from the input lists), retrain your optimized model and calculate its performance on the test set.\n",
        "\n",
        "NOTE: you MAY NOT use `GridSearchCV` on this question."
      ]
    },
    {
      "cell_type": "code",
      "execution_count": 14,
      "metadata": {
        "deletable": false,
        "nbgrader": {
          "cell_type": "code",
          "checksum": "e3ab4603fa5cacf7a27e1889362251d3",
          "grade": false,
          "grade_id": "cell-f5a7a77c17ee2f29",
          "locked": false,
          "schema_version": 3,
          "solution": true,
          "task": false
        },
        "id": "APoPdz5WbQBO"
      },
      "outputs": [],
      "source": [
        "def run_rf_model(X_train,y_train,X_test,y_test,minsamplesleaf_vals,maxfeatures_vals):\n",
        "    '''\n",
        "    Trains a random forest model using the optimal values for min_samples_leaf and max_features from the input lists\n",
        "\n",
        "    Inputs:\n",
        "        X_train(pd.DataFrame): dataframe of the training data inputs\n",
        "        y_train(pd.DataFrame): dataframe of the training data labels\n",
        "        X_test(pd.DataFrame): dataframe containing the test set inputs\n",
        "        y_test(pd.DataFrame): dataframe containing the test set labels\n",
        "        minsamplesleaf_vals(list): list of values to evaluate for min_samples_leaf hyperparameter\n",
        "        maxfeatures_vals(list): list of values to evaluate for max_features\n",
        "\n",
        "    Returns:\n",
        "        best_rf(sklearn.ensemble.RandomForestRegressor): trained random forest model using the optimal min_samples_leaf and max_features values\n",
        "        test_mse(float): the MSE on the test set\n",
        "    '''\n",
        "    # YOUR CODE HERE\n",
        "    # Initialize variables\n",
        "    best_mse = float('inf')\n",
        "    best_min_samples_leaf = None\n",
        "    best_max_features = None\n",
        "\n",
        "    # Loop through hyperparameters\n",
        "    for min_samples_leaf in minsamplesleaf_vals:\n",
        "        for max_features in maxfeatures_vals:\n",
        "            # Initialize Random Forest model with specified hyperparameters\n",
        "            rf_model = RandomForestRegressor(\n",
        "                min_samples_leaf=min_samples_leaf,\n",
        "                max_features=max_features,\n",
        "                random_state=0\n",
        "            )\n",
        "\n",
        "            # Perform cross-validation to find the optimal hyperparameters\n",
        "            # Using neg_mean_squared_error as the scoring metric\n",
        "            neg_mse_scores = cross_val_score(\n",
        "                rf_model, X_train, y_train, cv=3, scoring='neg_mean_squared_error'\n",
        "            )\n",
        "\n",
        "            # Calculate the mean MSE from cross-validation (negate it back to positive)\n",
        "            mean_mse = -np.mean(neg_mse_scores)\n",
        "\n",
        "            # Check if this combination of hyperparameters is the best so far\n",
        "            if mean_mse < best_mse:\n",
        "                best_mse = mean_mse\n",
        "                best_min_samples_leaf = min_samples_leaf\n",
        "                best_max_features = max_features\n",
        "\n",
        "    # After finding the best hyperparameters, retrain the model on the full training data\n",
        "    best_rf = RandomForestRegressor(\n",
        "        min_samples_leaf=best_min_samples_leaf,\n",
        "        max_features=best_max_features,\n",
        "        random_state=0\n",
        "    )\n",
        "    best_rf.fit(X_train, y_train)\n",
        "\n",
        "    # Calculate the MSE on the test set using the optimized model\n",
        "    y_pred = best_rf.predict(X_test)\n",
        "    test_mse = ((y_test - y_pred) ** 2).mean()\n",
        "\n",
        "    return best_rf, test_mse"
      ]
    },
    {
      "cell_type": "code",
      "execution_count": 15,
      "metadata": {
        "deletable": false,
        "editable": false,
        "nbgrader": {
          "cell_type": "code",
          "checksum": "cba36e9f9cf6dee957b5a4b679dce62f",
          "grade": true,
          "grade_id": "cell-3ec317a1a22e3bce",
          "locked": true,
          "points": 6,
          "schema_version": 3,
          "solution": false,
          "task": false
        },
        "colab": {
          "base_uri": "https://localhost:8080/"
        },
        "id": "UuurnYxCbQBP",
        "outputId": "a6c0c1e5-453a-4445-b46a-8fe14e072646"
      },
      "outputs": [
        {
          "output_type": "stream",
          "name": "stdout",
          "text": [
            "Your function found the optimal value of min_samples_leaf was 5\n",
            "Your function found the optimal value of max_features was 0.5\n",
            "The test set MSE of your model is 0.0203\n"
          ]
        }
      ],
      "source": [
        "# Test cell for run_rf_model\n",
        "# This may take a minute to run\n",
        "\n",
        "minsamplesleaf_vals = [1,5,20] #List of values to evaluate for min_samples_leaf\n",
        "maxfeatures_vals = [0.5,1.] #List of values to evaluate for max_features\n",
        "\n",
        "opt_rf,test_mse = run_rf_model(X_train,y_train,X_test,y_test,minsamplesleaf_vals,maxfeatures_vals)\n",
        "print('Your function found the optimal value of min_samples_leaf was {}'.format(opt_rf.get_params()['min_samples_leaf']))\n",
        "print('Your function found the optimal value of max_features was {}'.format(opt_rf.get_params()['max_features']))\n",
        "\n",
        "print('The test set MSE of your model is {:.4f}'.format(test_mse))\n"
      ]
    },
    {
      "cell_type": "markdown",
      "metadata": {
        "deletable": false,
        "editable": false,
        "nbgrader": {
          "cell_type": "markdown",
          "checksum": "2342759daaf9dedb2ff42296b86a722f",
          "grade": false,
          "grade_id": "cell-19aeaf77a85020e1",
          "locked": true,
          "schema_version": 3,
          "solution": false,
          "task": false
        },
        "id": "qjllLZpBbQBP"
      },
      "source": [
        "### Q4.4 [6 points]\n",
        "Let's used our trained random forest model to perform feature selection to downsize our feature set.  Complete the below function `model_three_feats()` which uses the random forest model you optimized in the previous question to identify the top three features according to the model's feature importance.  Then, filter your data to include only the top 3 features, and then optimize a new random forest model (using the input lists of possible values for `min_samples_leaf` and `max_features`) on the filtered data containing only the reduced featureset.  Your function may call your `run_rf_model()` function if you choose.  You should return a list of the top 3 features identified from your feature selection (in descending order of importance), the trained optimized random forest model on the feature subset, and the test set MSE of the optimized model on the feature subset."
      ]
    },
    {
      "cell_type": "code",
      "execution_count": null,
      "metadata": {
        "deletable": false,
        "nbgrader": {
          "cell_type": "code",
          "checksum": "a87fe45eea27da7800add8b3369817f9",
          "grade": false,
          "grade_id": "cell-87b7465c02f1b660",
          "locked": false,
          "schema_version": 3,
          "solution": true,
          "task": false
        },
        "id": "emnpGGkabQBP"
      },
      "outputs": [],
      "source": [
        "def model_three_feats(fullmodel,X_train,y_train,X_test,y_test,minsamplesleaf_vals,maxfeatures_vals):\n",
        "    '''\n",
        "    Filters the data to the top 3 features according to feature importance, then optimizes a new model\n",
        "    on the feature set and calculates test set performance\n",
        "\n",
        "    Inputs:\n",
        "        fullmodel(sklearn.ensemble.RandomForestRegressor): trained random forest model from previous\n",
        "        question using all features, to perform feature selection\n",
        "        X_train(pd.DataFrame): dataframe of the training data inputs\n",
        "        y_train(pd.DataFrame): dataframe of the training data labels\n",
        "        X_test(pd.DataFrame): dataframe containing the test set inputs\n",
        "        y_test(pd.DataFrame): dataframe containing the test set labels\n",
        "        minsamplesleaf_vals(list): list of values to evaluate for min_samples_leaf hyperparameter\n",
        "        maxfeatures_vals(list): list of values to evaluate for max_features\n",
        "\n",
        "    Returns:\n",
        "        topthreefeats(list): list of the top three most important features (based on RF feature importance),\n",
        "        in descending order of importance\n",
        "        opt_rf_subset(sklearn.ensemble.RandomForestRegressor): trained and optimized RF model on the feature\n",
        "        subset, optimizing min_samples_leaf and max_features from input lists\n",
        "        test_mse(float): MSE of the opt_rf_subset model on the test set\n",
        "    '''\n",
        "    # YOUR CODE HERE\n",
        "    raise NotImplementedError()"
      ]
    },
    {
      "cell_type": "code",
      "execution_count": null,
      "metadata": {
        "deletable": false,
        "editable": false,
        "nbgrader": {
          "cell_type": "code",
          "checksum": "28c0aae8c8ca91955355743a6ed814bb",
          "grade": true,
          "grade_id": "cell-ff51ca884c191fcf",
          "locked": true,
          "points": 6,
          "schema_version": 3,
          "solution": false,
          "task": false
        },
        "id": "K5XJd_pHbQBQ"
      },
      "outputs": [],
      "source": [
        "# Test cell for model_three_feats()\n",
        "\n",
        "top_feats,opt_rf_subset,test_mse = model_three_feats(opt_rf,X_train,y_train,X_test,y_test,minsamplesleaf_vals,maxfeatures_vals)\n",
        "print('Your top 3 most important features are: {}'.format(top_feats))\n",
        "\n",
        "assert len(top_feats)==3\n",
        "\n",
        "print('Your function found the optimal value of min_samples_leaf was {}'.format(opt_rf_subset.get_params()['min_samples_leaf']))\n",
        "print('Your function found the optimal value of max_features was {}'.format(opt_rf_subset.get_params()['max_features']))\n",
        "\n",
        "print('The test set MSE of your model with only the top 3 features is {:.4f}'.format(test_mse))\n"
      ]
    },
    {
      "cell_type": "markdown",
      "metadata": {
        "deletable": false,
        "editable": false,
        "nbgrader": {
          "cell_type": "markdown",
          "checksum": "25913fb5677b97a07b95e1d5dd11c4f7",
          "grade": false,
          "grade_id": "cell-169fe8efba6860e8",
          "locked": true,
          "schema_version": 3,
          "solution": false,
          "task": false
        },
        "id": "BeQprIctbQBQ"
      },
      "source": [
        "### Q4.5 [6 points]\n",
        "Let's now try a gradient boosting model on our dataset.  Complete the below function `run_boosting_model()` which takes as inputs the training data as well as lists of possible values to evaluate for the hyperparameters `min_samples_leaf` and `n_estimators`.  Your function should use cross-validation (you can use `cross_val_score` with 3-fold cross-validation and `neg_mean_squared_error` as the scoring metric) to determine the optimal values for `min_samples_leaf` and `n_estimators` from among the options in the input lists.  When instantiating the `GradientBoostingRegressor` be sure to use `random_state=0` and keep everything at the default settings except the two hyperparameters you are optimizing.  After you have found the optimal vlaues for `min_samples_leaf` and `n_estimators` (from the input lists), train a `GradientBoostingRegressor` model using the optimal hyperparameter values (and `random_state=0`) and calculate its performance on the test set.\n",
        "\n",
        "NOTE: you MAY NOT use `GridSearchCV` on this question."
      ]
    },
    {
      "cell_type": "code",
      "execution_count": null,
      "metadata": {
        "deletable": false,
        "nbgrader": {
          "cell_type": "code",
          "checksum": "5580eac32d9e5f92872f09ef7f7ec4fa",
          "grade": false,
          "grade_id": "cell-21d7df68fbcc531a",
          "locked": false,
          "schema_version": 3,
          "solution": true,
          "task": false
        },
        "id": "rT2Qi0NIbQBQ"
      },
      "outputs": [],
      "source": [
        "def run_boosting_model(X_train,y_train,X_test,y_test,minsamplesleaf_vals,nestimator_vals):\n",
        "    '''\n",
        "    Trains a a gradient boosting model using the optimal values for min_samples_leaf and n_estimators from the input lists\n",
        "\n",
        "    Inputs:\n",
        "        X_train(pd.DataFrame): dataframe of the training data inputs\n",
        "        y_train(pd.DataFrame): dataframe of the training data labels\n",
        "        X_test(pd.DataFrame): dataframe containing the test set inputs\n",
        "        y_test(pd.DataFrame): dataframe containing the test set labels\n",
        "        minsamplesleaf_vals(list): list of values to evaluate for min_samples_leaf hyperparameter\n",
        "        nestimator_vals(list): list of values to evaluate for n_estimators\n",
        "\n",
        "    Returns:\n",
        "        best_boosted(sklearn.ensemble.GradientBoostingRegressor): trained random forest model using the optimal min_samples_leaf and max_features values\n",
        "        test_mse(float): the MSE on the test set\n",
        "    '''\n",
        "    # YOUR CODE HERE\n",
        "    raise NotImplementedError()"
      ]
    },
    {
      "cell_type": "code",
      "execution_count": null,
      "metadata": {
        "deletable": false,
        "editable": false,
        "nbgrader": {
          "cell_type": "code",
          "checksum": "f58bf47b9548e524dc2db9d77506044d",
          "grade": true,
          "grade_id": "cell-1bca090532d839be",
          "locked": true,
          "points": 6,
          "schema_version": 3,
          "solution": false,
          "task": false
        },
        "id": "kVdYFMcQbQBR"
      },
      "outputs": [],
      "source": [
        "# Test cell for run_boosting_model\n",
        "# This may take a minute to run\n",
        "\n",
        "minsamplesleaf_vals = [5,20] #List of values to evaluate for min_samples_leaf\n",
        "nestimator_vals = [50,100] #List of values to evaluate for n_estimators\n",
        "\n",
        "opt_boosting, test_mse = run_boosting_model(X_train,y_train,X_test,y_test,minsamplesleaf_vals,nestimator_vals)\n",
        "print('Your function found the optimal value of min_samples_leaf was {}'.format(opt_boosting.get_params()['min_samples_leaf']))\n",
        "print('Your function found the optimal value of n_estimators was {}'.format(opt_boosting.get_params()['n_estimators']))\n",
        "\n",
        "print('The test set MSE of your model is {:.4f}'.format(test_mse))\n"
      ]
    },
    {
      "cell_type": "markdown",
      "metadata": {
        "deletable": false,
        "editable": false,
        "nbgrader": {
          "cell_type": "markdown",
          "checksum": "ee7ca8dc7b55abe20abc97c4467d1db3",
          "grade": false,
          "grade_id": "cell-d22b993585ab73c9",
          "locked": true,
          "schema_version": 3,
          "solution": false,
          "task": false
        },
        "id": "m6O-kLMnbQBR"
      },
      "source": [
        "## Question 5: Neural Network [15 pts]\n",
        "We will now use a neural network in PyTorch to model the violent crimes data from the previous question."
      ]
    },
    {
      "cell_type": "code",
      "execution_count": null,
      "metadata": {
        "deletable": false,
        "editable": false,
        "nbgrader": {
          "cell_type": "code",
          "checksum": "89b050b2ce228e2a1213937c5ac5b61e",
          "grade": false,
          "grade_id": "cell-cf032bd7547db7e0",
          "locked": true,
          "schema_version": 3,
          "solution": false,
          "task": false
        },
        "id": "F53krt1_bQBR"
      },
      "outputs": [],
      "source": [
        "X = crimes.iloc[:,:-1]\n",
        "y = crimes.iloc[:,-1]\n",
        "\n",
        "# Split our data into training and test sets\n",
        "X_train, X_test, y_train, y_test = train_test_split(X,y,random_state=0, test_size=0.2)"
      ]
    },
    {
      "cell_type": "markdown",
      "metadata": {
        "deletable": false,
        "editable": false,
        "nbgrader": {
          "cell_type": "markdown",
          "checksum": "da5141c0d5aeaf701b3171ed334835e2",
          "grade": false,
          "grade_id": "cell-80b72c26141bb6f7",
          "locked": true,
          "schema_version": 3,
          "solution": false,
          "task": false
        },
        "id": "C5ssKjvjbQBR"
      },
      "source": [
        "### Q5.1 [3 points]\n",
        "We will start by putting our data into PyTorch DataLoaders for modeling.  Complete the below function `prep_dataloaders()`, which takes as input the training and test data and the batch size.  Your function should create and return the training DataLoader and test DataLoader.  Be sure to set `shuffle=False` for the test set dataloader."
      ]
    },
    {
      "cell_type": "code",
      "execution_count": null,
      "metadata": {
        "deletable": false,
        "nbgrader": {
          "cell_type": "code",
          "checksum": "1ddf0019620e2f85eb9311a5750c5841",
          "grade": false,
          "grade_id": "cell-9555e4b68ed03fba",
          "locked": false,
          "schema_version": 3,
          "solution": true,
          "task": false
        },
        "id": "Eo6RpIljbQBR"
      },
      "outputs": [],
      "source": [
        "def prep_dataloaders(X_train,y_train,X_test,y_test,batch_size):\n",
        "    '''\n",
        "    Creates DataLoaders for the training and test data\n",
        "\n",
        "    Inputs:\n",
        "        X_train(pd.DataFrame): dataframe of the training data inputs\n",
        "        y_train(pd.DataFrame): dataframe of the training data labels\n",
        "        X_test(pd.DataFrame): dataframe containing the test set inputs\n",
        "        y_test(pd.DataFrame): dataframe containing the test set labels\n",
        "        batch_size(int): number of observations to use in each minibatch\n",
        "\n",
        "    Returns:\n",
        "        trainloader(DataLoader): DataLoader containing the training data\n",
        "        test_loader(DataLoader): DataLoader containing the test data\n",
        "    '''\n",
        "    # YOUR CODE HERE\n",
        "    raise NotImplementedError()"
      ]
    },
    {
      "cell_type": "code",
      "execution_count": null,
      "metadata": {
        "deletable": false,
        "editable": false,
        "nbgrader": {
          "cell_type": "code",
          "checksum": "204db7ce2a363f18b198962687a83a7f",
          "grade": true,
          "grade_id": "cell-e9146c932d3dacd3",
          "locked": true,
          "points": 3,
          "schema_version": 3,
          "solution": false,
          "task": false
        },
        "id": "7sdr-J81bQBR"
      },
      "outputs": [],
      "source": [
        "# Test cell for prep_dataloader\n",
        "batchsize = 32\n",
        "trainloader,testloader = prep_dataloaders(X_train,y_train,X_test,y_test,batchsize)\n",
        "chunk = next(iter(trainloader))\n",
        "assert len(chunk) == 2\n",
        "assert len(chunk[1]==batchsize)\n"
      ]
    },
    {
      "cell_type": "markdown",
      "metadata": {
        "deletable": false,
        "editable": false,
        "nbgrader": {
          "cell_type": "markdown",
          "checksum": "0fee1449fe032e825008fe6ce1c848c7",
          "grade": false,
          "grade_id": "cell-74a4d45d76d48b82",
          "locked": true,
          "schema_version": 3,
          "solution": false,
          "task": false
        },
        "id": "I2RoDBOybQBS"
      },
      "source": [
        "### Q5.2 [4 points]\n",
        "Complete the below class `RegressionNet`.  The class should contain an `__init__` method to initiate the neural network and a `forward` method to pass data forward through the network and return the output of the model.  \n",
        "\n",
        "Your `RegressionNet` architecture should contain 3 sets of weights using the following names for each set:  \n",
        "- `self.hidden1`: a fully-connected linear layer which receives the feature inputs and passes them to hidden1\n",
        "- `self.hidden2`: a fully-connected linear layer which receives the outputs from the hidden1 layer and passes them to hidden2.\n",
        "- `self.out`: a ully-connected linear layer which receives the outputs from the hidden2 layer and passes them out of the network as the output\n",
        "\n",
        "Each of the 2 hidden layers should be followed by a ReLu activation function.  The output layer should not contain any activation function.\n",
        "\n",
        "The number of units for hidden1 and hidden2 layers are passed as inputs when the RegressionNet is initialized.  You should hardcode any other needed values to define the network."
      ]
    },
    {
      "cell_type": "code",
      "execution_count": null,
      "metadata": {
        "deletable": false,
        "nbgrader": {
          "cell_type": "code",
          "checksum": "96c3fb413c89a0535c0f723b56590cc0",
          "grade": false,
          "grade_id": "cell-fba68384e4b9d64d",
          "locked": false,
          "schema_version": 3,
          "solution": true,
          "task": false
        },
        "id": "CfKFhME-bQBS"
      },
      "outputs": [],
      "source": [
        "class RegressionNet(nn.Module):\n",
        "    def __init__(self, n_hidden1, n_hidden2):\n",
        "        '''\n",
        "        Creates a RegressionNet instance\n",
        "        '''\n",
        "        super().__init__()\n",
        "        # YOUR CODE HERE\n",
        "        raise NotImplementedError()\n",
        "\n",
        "    def forward(self, x):\n",
        "        '''\n",
        "        Performs a forward pass through the network and returns the output of the model\n",
        "        '''\n",
        "        # YOUR CODE HERE\n",
        "        raise NotImplementedError()"
      ]
    },
    {
      "cell_type": "code",
      "execution_count": null,
      "metadata": {
        "deletable": false,
        "editable": false,
        "nbgrader": {
          "cell_type": "code",
          "checksum": "eb8eef6d9ee383d087934e50cc5f3c85",
          "grade": true,
          "grade_id": "cell-b43d622afc6f1b1f",
          "locked": true,
          "points": 4,
          "schema_version": 3,
          "solution": false,
          "task": false
        },
        "id": "a8FIb1__bQBS"
      },
      "outputs": [],
      "source": [
        "# Test cell for RegressionNet\n",
        "# Instantiate our neural network\n",
        "\n",
        "net = RegressionNet(n_hidden1=50, n_hidden2=5)\n"
      ]
    },
    {
      "cell_type": "markdown",
      "metadata": {
        "deletable": false,
        "editable": false,
        "nbgrader": {
          "cell_type": "markdown",
          "checksum": "aa338eb09bb56cf56db689448ebcb46e",
          "grade": false,
          "grade_id": "cell-117b90643eddfe4b",
          "locked": true,
          "schema_version": 3,
          "solution": false,
          "task": false
        },
        "id": "BYbLD685bQBS"
      },
      "source": [
        "### Q5.3 [4 points]\n",
        "Complete the below function `train_model()` which takes as input the instantiated RegressionNet, the loss function (`criterion`), the optimizer, the trainloader, and the number of epochs (`num_iter`).  The function should use the minibatches in the trainloader to train the model for the input number of iterations/epochs `num_iter`.  Your function should return a list of the total cost/loss values (as floats) for each iteration of the training (NOT each individual minibatch, but rather the sum of the loss across all minibatches for each iteration/epoch)."
      ]
    },
    {
      "cell_type": "code",
      "execution_count": null,
      "metadata": {
        "deletable": false,
        "nbgrader": {
          "cell_type": "code",
          "checksum": "8d3ea6408752829632e00069a4f1b8f6",
          "grade": false,
          "grade_id": "cell-7382427fe92f84e6",
          "locked": false,
          "schema_version": 3,
          "solution": true,
          "task": false
        },
        "id": "tGa5nyOobQBS"
      },
      "outputs": [],
      "source": [
        "def train_model(model,criterion,optimizer,trainloader,num_iter):\n",
        "    '''\n",
        "    Trains the RegressionNet model\n",
        "\n",
        "    Inputs:\n",
        "        model(RegressionNet): instantiated RegressionNet\n",
        "        criterion(torch.nn.MSELoss): PyTorch loss function\n",
        "        optimizer(torch.optim.SGD): PyTorch optimizer\n",
        "        trainloader(DataLoader): DataLoader containing the training data\n",
        "        num_iter(int): number of iterations(epochs) of training\n",
        "\n",
        "    Returns:\n",
        "        cost(list): list containing the total loss for all minibatches in each iteration/epoch\n",
        "    '''\n",
        "    model.train() # Set the model to training mode\n",
        "    # YOUR CODE HERE\n",
        "    raise NotImplementedError()"
      ]
    },
    {
      "cell_type": "code",
      "execution_count": null,
      "metadata": {
        "deletable": false,
        "editable": false,
        "nbgrader": {
          "cell_type": "code",
          "checksum": "5a00e3d5ca5e2385392a89de658b2528",
          "grade": true,
          "grade_id": "cell-3058881162b7bbf2",
          "locked": true,
          "points": 4,
          "schema_version": 3,
          "solution": false,
          "task": false
        },
        "id": "2sfRy9_KbQBS"
      },
      "outputs": [],
      "source": [
        "# Test cell for train_model()\n",
        "# This may take some time to run\n",
        "\n",
        "net = RegressionNet(n_hidden1=50, n_hidden2=5)\n",
        "# Define the cost / loss function\n",
        "criterion = nn.MSELoss()\n",
        "# Define the method of updating the weights each iteration\n",
        "optimizer = optim.SGD(net.parameters(), lr=0.01)\n",
        "# Number of iterations (epochs) to train\n",
        "n_iter = 200\n",
        "\n",
        "cost_path = train_model(net,criterion,optimizer,trainloader,n_iter)\n",
        "\n",
        "plt.plot(cost_path)\n",
        "plt.xlabel('Epoch')\n",
        "plt.ylabel('Loss')\n",
        "plt.show()\n",
        "\n",
        "assert len(cost_path)==n_iter\n"
      ]
    },
    {
      "cell_type": "markdown",
      "metadata": {
        "deletable": false,
        "editable": false,
        "nbgrader": {
          "cell_type": "markdown",
          "checksum": "d478ac5b85cdb48898d7fd1176d29f85",
          "grade": false,
          "grade_id": "cell-a32c694f567bec76",
          "locked": true,
          "schema_version": 3,
          "solution": false,
          "task": false
        },
        "id": "jRpecvewbQBT"
      },
      "source": [
        "### Q5.4 [4 points]\n",
        "Complete the below function `test_model()` which takes as input your trained model and the PyTorch dataloader for your test set `testloader`. The function should generate the predictions for all observations in the test set and calcualte the MSE on the test set."
      ]
    },
    {
      "cell_type": "code",
      "execution_count": null,
      "metadata": {
        "deletable": false,
        "nbgrader": {
          "cell_type": "code",
          "checksum": "70e3dbca510f424bd99847ece571c27f",
          "grade": false,
          "grade_id": "cell-b641b8fef483a197",
          "locked": false,
          "schema_version": 3,
          "solution": true,
          "task": false
        },
        "id": "yoD2V_FcbQBT"
      },
      "outputs": [],
      "source": [
        "def test_model(model,test_loader):\n",
        "    '''\n",
        "    Calculates the MSE of the model on the test set\n",
        "\n",
        "    Inputs:\n",
        "        model(RegressionNet): trained RegressionNet model\n",
        "        test_loader(DataLoader): DataLoader containing the test set data\n",
        "\n",
        "    Returns:\n",
        "        test_preds(list): list containing the test set predictions\n",
        "        test_mse(float): MSE of the test set predictions\n",
        "    '''\n",
        "    # Turn autograd off\n",
        "    with torch.no_grad():\n",
        "    # YOUR CODE HERE\n",
        "    raise NotImplementedError()"
      ]
    },
    {
      "cell_type": "code",
      "execution_count": null,
      "metadata": {
        "deletable": false,
        "editable": false,
        "nbgrader": {
          "cell_type": "code",
          "checksum": "c1461e8d3ae22c0d33d36436fef1bec1",
          "grade": true,
          "grade_id": "cell-dc15fa0e05984ed8",
          "locked": true,
          "points": 4,
          "schema_version": 3,
          "solution": false,
          "task": false
        },
        "id": "cT8TbMEebQBT"
      },
      "outputs": [],
      "source": [
        "# Test cell for test_model()\n",
        "testpreds,test_mse = test_model(net,testloader)\n",
        "assert type(testpreds) == list\n",
        "assert len(testpreds) == len(y_test)\n",
        "print('The test set MSE of your model is {:.4f}'.format(test_mse))\n"
      ]
    },
    {
      "cell_type": "markdown",
      "metadata": {
        "id": "qSQqonuobQBT"
      },
      "source": [
        "## Question 6 [11 points]\n",
        "Please answer the following questions with brief answers of no more than 2-3 sentences"
      ]
    },
    {
      "cell_type": "markdown",
      "metadata": {
        "id": "t0ZrjHG-bQBT"
      },
      "source": [
        "### Q6.1 (3 pts)\n",
        "When we begin working on a new ML problem and are considering different approaches, how do we determine how important interpretability is?"
      ]
    },
    {
      "cell_type": "markdown",
      "metadata": {
        "id": "sM11ekjebQBT"
      },
      "source": [
        "YOUR ANSWER HERE"
      ]
    },
    {
      "cell_type": "markdown",
      "metadata": {
        "id": "myrtdp84bQBU"
      },
      "source": [
        "### Q6.2 (3 pts)\n",
        "What is the main advantage of using either interpretable models or a post hoc interpretation technique rather than a black-box model?"
      ]
    },
    {
      "cell_type": "markdown",
      "metadata": {
        "id": "s8NVXGWrbQBU"
      },
      "source": [
        "YOUR ANSWER HERE"
      ]
    },
    {
      "cell_type": "markdown",
      "metadata": {
        "id": "7s76wKNubQBU"
      },
      "source": [
        "### Q6.3 (5 pts)\n",
        "Explain how LIME and SHAP each provide explanations for the predictions of a model and how the two approaches differ."
      ]
    },
    {
      "cell_type": "markdown",
      "metadata": {
        "id": "_SP3HPxMbQBU"
      },
      "source": [
        "YOUR ANSWER HERE"
      ]
    },
    {
      "cell_type": "markdown",
      "metadata": {
        "deletable": false,
        "editable": false,
        "nbgrader": {
          "cell_type": "markdown",
          "checksum": "1a092731cbda8a9d57c7a958a20391dd",
          "grade": false,
          "grade_id": "cell-1fc50b8e42566488",
          "locked": true,
          "schema_version": 3,
          "solution": false,
          "task": false
        },
        "id": "uIi_XKz8bQBU"
      },
      "source": [
        "# THE END\n",
        "Congratulations on finishing the course!"
      ]
    }
  ],
  "metadata": {
    "kernelspec": {
      "display_name": "Python 3 (ipykernel)",
      "language": "python",
      "name": "python3"
    },
    "language_info": {
      "codemirror_mode": {
        "name": "ipython",
        "version": 3
      },
      "file_extension": ".py",
      "mimetype": "text/x-python",
      "name": "python",
      "nbconvert_exporter": "python",
      "pygments_lexer": "ipython3",
      "version": "3.10.8"
    },
    "vscode": {
      "interpreter": {
        "hash": "31cc86d7aac4849c7546154c9b56d60163d5e8a1d83593a5eed18774fbf4fd37"
      }
    },
    "colab": {
      "provenance": []
    }
  },
  "nbformat": 4,
  "nbformat_minor": 0
}